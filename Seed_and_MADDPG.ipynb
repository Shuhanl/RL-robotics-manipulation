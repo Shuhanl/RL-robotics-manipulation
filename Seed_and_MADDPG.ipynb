{
  "cells": [
    {
      "cell_type": "code",
      "execution_count": null,
      "metadata": {
        "colab": {
          "base_uri": "https://localhost:8080/"
        },
        "id": "If6ejBKyQlcz",
        "outputId": "0dc43974-3aa5-4ef9-bf81-60ab495ff3e4"
      },
      "outputs": [
        {
          "output_type": "stream",
          "name": "stdout",
          "text": [
            "Cloning into 'multiagent-particle-envs'...\n",
            "remote: Enumerating objects: 281, done.\u001b[K\n",
            "remote: Counting objects: 100% (123/123), done.\u001b[K\n",
            "remote: Compressing objects: 100% (35/35), done.\u001b[K\n",
            "remote: Total 281 (delta 104), reused 88 (delta 88), pack-reused 158\u001b[K\n",
            "Receiving objects: 100% (281/281), 109.97 KiB | 908.00 KiB/s, done.\n",
            "Resolving deltas: 100% (158/158), done.\n"
          ]
        }
      ],
      "source": [
        "!git clone https://github.com/openai/multiagent-particle-envs"
      ]
    },
    {
      "cell_type": "code",
      "execution_count": null,
      "metadata": {
        "colab": {
          "base_uri": "https://localhost:8080/"
        },
        "id": "VEcuSBdHQpfd",
        "outputId": "feb2a18e-fe93-4cea-ea76-98ef4c4dd1af"
      },
      "outputs": [
        {
          "output_type": "stream",
          "name": "stdout",
          "text": [
            "Requirement already satisfied: JSAnimation in /usr/local/lib/python3.10/dist-packages (0.1)\n"
          ]
        }
      ],
      "source": [
        "!apt-get install -y xvfb > /dev/null 2>&1\n",
        "!pip install gym pyvirtualdisplay > /dev/null 2>&1\n",
        "!pip install JSAnimation"
      ]
    },
    {
      "cell_type": "code",
      "execution_count": null,
      "metadata": {
        "colab": {
          "base_uri": "https://localhost:8080/"
        },
        "id": "Rs9Qkq5fQ0IU",
        "outputId": "fb034b7e-743d-4bcb-c761-a39d034c5307"
      },
      "outputs": [
        {
          "output_type": "stream",
          "name": "stdout",
          "text": [
            "/content/multiagent-particle-envs/multiagent-particle-envs/multiagent-particle-envs/multiagent-particle-envs\n"
          ]
        }
      ],
      "source": [
        "cd multiagent-particle-envs/"
      ]
    },
    {
      "cell_type": "code",
      "execution_count": null,
      "metadata": {
        "colab": {
          "base_uri": "https://localhost:8080/"
        },
        "id": "LZLZ2fF3Q29T",
        "outputId": "a19b1d9e-988d-4a09-93f0-ebeadfc903d8"
      },
      "outputs": [
        {
          "output_type": "stream",
          "name": "stdout",
          "text": [
            "Requirement already satisfied: gym==0.10.5 in /usr/local/lib/python3.10/dist-packages (0.10.5)\n",
            "Requirement already satisfied: numpy>=1.10.4 in /usr/local/lib/python3.10/dist-packages (from gym==0.10.5) (1.23.5)\n",
            "Requirement already satisfied: requests>=2.0 in /usr/local/lib/python3.10/dist-packages (from gym==0.10.5) (2.31.0)\n",
            "Requirement already satisfied: six in /usr/local/lib/python3.10/dist-packages (from gym==0.10.5) (1.16.0)\n",
            "Requirement already satisfied: pyglet>=1.2.0 in /usr/local/lib/python3.10/dist-packages (from gym==0.10.5) (1.3.2)\n",
            "Requirement already satisfied: future in /usr/local/lib/python3.10/dist-packages (from pyglet>=1.2.0->gym==0.10.5) (0.18.3)\n",
            "Requirement already satisfied: charset-normalizer<4,>=2 in /usr/local/lib/python3.10/dist-packages (from requests>=2.0->gym==0.10.5) (3.3.0)\n",
            "Requirement already satisfied: idna<4,>=2.5 in /usr/local/lib/python3.10/dist-packages (from requests>=2.0->gym==0.10.5) (3.4)\n",
            "Requirement already satisfied: urllib3<3,>=1.21.1 in /usr/local/lib/python3.10/dist-packages (from requests>=2.0->gym==0.10.5) (2.0.6)\n",
            "Requirement already satisfied: certifi>=2017.4.17 in /usr/local/lib/python3.10/dist-packages (from requests>=2.0->gym==0.10.5) (2023.7.22)\n",
            "Requirement already satisfied: pyglet==1.3.2 in /usr/local/lib/python3.10/dist-packages (1.3.2)\n",
            "Requirement already satisfied: future in /usr/local/lib/python3.10/dist-packages (from pyglet==1.3.2) (0.18.3)\n",
            "Requirement already satisfied: tianshou in /usr/local/lib/python3.10/dist-packages (0.5.1)\n",
            "Requirement already satisfied: gymnasium>=0.26.0 in /usr/local/lib/python3.10/dist-packages (from tianshou) (0.29.1)\n",
            "Requirement already satisfied: tqdm in /usr/local/lib/python3.10/dist-packages (from tianshou) (4.66.1)\n",
            "Requirement already satisfied: numpy>1.16.0 in /usr/local/lib/python3.10/dist-packages (from tianshou) (1.23.5)\n",
            "Requirement already satisfied: tensorboard>=2.5.0 in /usr/local/lib/python3.10/dist-packages (from tianshou) (2.13.0)\n",
            "Requirement already satisfied: torch>=1.4.0 in /usr/local/lib/python3.10/dist-packages (from tianshou) (2.0.1+cu118)\n",
            "Requirement already satisfied: numba>=0.51.0 in /usr/local/lib/python3.10/dist-packages (from tianshou) (0.56.4)\n",
            "Requirement already satisfied: h5py>=2.10.0 in /usr/local/lib/python3.10/dist-packages (from tianshou) (3.9.0)\n",
            "Requirement already satisfied: packaging in /usr/local/lib/python3.10/dist-packages (from tianshou) (23.2)\n",
            "Requirement already satisfied: pettingzoo>=1.22 in /usr/local/lib/python3.10/dist-packages (from tianshou) (1.24.1)\n",
            "Requirement already satisfied: cloudpickle>=1.2.0 in /usr/local/lib/python3.10/dist-packages (from gymnasium>=0.26.0->tianshou) (2.2.1)\n",
            "Requirement already satisfied: typing-extensions>=4.3.0 in /usr/local/lib/python3.10/dist-packages (from gymnasium>=0.26.0->tianshou) (4.5.0)\n",
            "Requirement already satisfied: farama-notifications>=0.0.1 in /usr/local/lib/python3.10/dist-packages (from gymnasium>=0.26.0->tianshou) (0.0.4)\n",
            "Requirement already satisfied: llvmlite<0.40,>=0.39.0dev0 in /usr/local/lib/python3.10/dist-packages (from numba>=0.51.0->tianshou) (0.39.1)\n",
            "Requirement already satisfied: setuptools in /usr/local/lib/python3.10/dist-packages (from numba>=0.51.0->tianshou) (67.7.2)\n",
            "Requirement already satisfied: absl-py>=0.4 in /usr/local/lib/python3.10/dist-packages (from tensorboard>=2.5.0->tianshou) (1.4.0)\n",
            "Requirement already satisfied: grpcio>=1.48.2 in /usr/local/lib/python3.10/dist-packages (from tensorboard>=2.5.0->tianshou) (1.59.0)\n",
            "Requirement already satisfied: google-auth<3,>=1.6.3 in /usr/local/lib/python3.10/dist-packages (from tensorboard>=2.5.0->tianshou) (2.17.3)\n",
            "Requirement already satisfied: google-auth-oauthlib<1.1,>=0.5 in /usr/local/lib/python3.10/dist-packages (from tensorboard>=2.5.0->tianshou) (1.0.0)\n",
            "Requirement already satisfied: markdown>=2.6.8 in /usr/local/lib/python3.10/dist-packages (from tensorboard>=2.5.0->tianshou) (3.5)\n",
            "Requirement already satisfied: protobuf>=3.19.6 in /usr/local/lib/python3.10/dist-packages (from tensorboard>=2.5.0->tianshou) (3.20.3)\n",
            "Requirement already satisfied: requests<3,>=2.21.0 in /usr/local/lib/python3.10/dist-packages (from tensorboard>=2.5.0->tianshou) (2.31.0)\n",
            "Requirement already satisfied: tensorboard-data-server<0.8.0,>=0.7.0 in /usr/local/lib/python3.10/dist-packages (from tensorboard>=2.5.0->tianshou) (0.7.1)\n",
            "Requirement already satisfied: werkzeug>=1.0.1 in /usr/local/lib/python3.10/dist-packages (from tensorboard>=2.5.0->tianshou) (3.0.0)\n",
            "Requirement already satisfied: wheel>=0.26 in /usr/local/lib/python3.10/dist-packages (from tensorboard>=2.5.0->tianshou) (0.41.2)\n",
            "Requirement already satisfied: filelock in /usr/local/lib/python3.10/dist-packages (from torch>=1.4.0->tianshou) (3.12.4)\n",
            "Requirement already satisfied: sympy in /usr/local/lib/python3.10/dist-packages (from torch>=1.4.0->tianshou) (1.12)\n",
            "Requirement already satisfied: networkx in /usr/local/lib/python3.10/dist-packages (from torch>=1.4.0->tianshou) (3.1)\n",
            "Requirement already satisfied: jinja2 in /usr/local/lib/python3.10/dist-packages (from torch>=1.4.0->tianshou) (3.1.2)\n",
            "Requirement already satisfied: triton==2.0.0 in /usr/local/lib/python3.10/dist-packages (from torch>=1.4.0->tianshou) (2.0.0)\n",
            "Requirement already satisfied: cmake in /usr/local/lib/python3.10/dist-packages (from triton==2.0.0->torch>=1.4.0->tianshou) (3.27.6)\n",
            "Requirement already satisfied: lit in /usr/local/lib/python3.10/dist-packages (from triton==2.0.0->torch>=1.4.0->tianshou) (17.0.2)\n",
            "Requirement already satisfied: cachetools<6.0,>=2.0.0 in /usr/local/lib/python3.10/dist-packages (from google-auth<3,>=1.6.3->tensorboard>=2.5.0->tianshou) (5.3.1)\n",
            "Requirement already satisfied: pyasn1-modules>=0.2.1 in /usr/local/lib/python3.10/dist-packages (from google-auth<3,>=1.6.3->tensorboard>=2.5.0->tianshou) (0.3.0)\n",
            "Requirement already satisfied: six>=1.9.0 in /usr/local/lib/python3.10/dist-packages (from google-auth<3,>=1.6.3->tensorboard>=2.5.0->tianshou) (1.16.0)\n",
            "Requirement already satisfied: rsa<5,>=3.1.4 in /usr/local/lib/python3.10/dist-packages (from google-auth<3,>=1.6.3->tensorboard>=2.5.0->tianshou) (4.9)\n",
            "Requirement already satisfied: requests-oauthlib>=0.7.0 in /usr/local/lib/python3.10/dist-packages (from google-auth-oauthlib<1.1,>=0.5->tensorboard>=2.5.0->tianshou) (1.3.1)\n",
            "Requirement already satisfied: charset-normalizer<4,>=2 in /usr/local/lib/python3.10/dist-packages (from requests<3,>=2.21.0->tensorboard>=2.5.0->tianshou) (3.3.0)\n",
            "Requirement already satisfied: idna<4,>=2.5 in /usr/local/lib/python3.10/dist-packages (from requests<3,>=2.21.0->tensorboard>=2.5.0->tianshou) (3.4)\n",
            "Requirement already satisfied: urllib3<3,>=1.21.1 in /usr/local/lib/python3.10/dist-packages (from requests<3,>=2.21.0->tensorboard>=2.5.0->tianshou) (2.0.6)\n",
            "Requirement already satisfied: certifi>=2017.4.17 in /usr/local/lib/python3.10/dist-packages (from requests<3,>=2.21.0->tensorboard>=2.5.0->tianshou) (2023.7.22)\n",
            "Requirement already satisfied: MarkupSafe>=2.1.1 in /usr/local/lib/python3.10/dist-packages (from werkzeug>=1.0.1->tensorboard>=2.5.0->tianshou) (2.1.3)\n",
            "Requirement already satisfied: mpmath>=0.19 in /usr/local/lib/python3.10/dist-packages (from sympy->torch>=1.4.0->tianshou) (1.3.0)\n",
            "Requirement already satisfied: pyasn1<0.6.0,>=0.4.6 in /usr/local/lib/python3.10/dist-packages (from pyasn1-modules>=0.2.1->google-auth<3,>=1.6.3->tensorboard>=2.5.0->tianshou) (0.5.0)\n",
            "Requirement already satisfied: oauthlib>=3.0.0 in /usr/local/lib/python3.10/dist-packages (from requests-oauthlib>=0.7.0->google-auth-oauthlib<1.1,>=0.5->tensorboard>=2.5.0->tianshou) (3.2.2)\n"
          ]
        }
      ],
      "source": [
        "!pip install gym==0.10.5\n",
        "!pip install pyglet==1.3.2\n",
        "!pip install tianshou"
      ]
    },
    {
      "cell_type": "code",
      "execution_count": null,
      "metadata": {
        "id": "HtuK2i1jQ4nc"
      },
      "outputs": [],
      "source": [
        "from make_env import make_env\n",
        "import numpy as np\n",
        "import copy\n",
        "from collections import deque, namedtuple\n",
        "import gym\n",
        "import random\n",
        "import torch\n",
        "import torch.nn as nn\n",
        "import torch.nn.functional as F\n",
        "import torch.optim as optim\n",
        "from torch.nn.utils import clip_grad_norm_\n",
        "import matplotlib\n",
        "import matplotlib.animation as animation\n",
        "import matplotlib.pyplot as plt\n",
        "\n",
        "\n",
        "from typing import Any, List, Optional, Tuple, Union\n",
        "from tianshou.data import Batch, ReplayBuffer, SegmentTree, to_numpy\n",
        "\n",
        "from JSAnimation.IPython_display import display_animation\n",
        "from IPython.display import HTML"
      ]
    },
    {
      "cell_type": "code",
      "execution_count": null,
      "metadata": {
        "colab": {
          "base_uri": "https://localhost:8080/"
        },
        "id": "aAgBMa9uRaxk",
        "outputId": "d01bbd97-1086-4c08-9057-422a2a856e29"
      },
      "outputs": [
        {
          "output_type": "stream",
          "name": "stdout",
          "text": [
            "1\n",
            "cuda:0\n"
          ]
        }
      ],
      "source": [
        "print(torch.cuda.device_count())\n",
        "device = torch.device('cuda:0' if torch.cuda.is_available() else 'cpu')\n",
        "print(device)"
      ]
    },
    {
      "cell_type": "code",
      "execution_count": null,
      "metadata": {
        "id": "wt7VMb_NxEoc"
      },
      "outputs": [],
      "source": [
        "class PrioritizedReplayBuffer(ReplayBuffer):\n",
        "    \"\"\"Implementation of Prioritized Experience Replay. arXiv:1511.05952.\n",
        "\n",
        "    :param float alpha: the prioritization exponent.\n",
        "    :param float beta: the importance sample soft coefficient.\n",
        "    :param bool weight_norm: whether to normalize returned weights with the maximum\n",
        "        weight value within the batch. Default to True.\n",
        "\n",
        "    .. seealso::\n",
        "\n",
        "        Please refer to :class:`~tianshou.data.ReplayBuffer` for other APIs' usage.\n",
        "    \"\"\"\n",
        "    def __init__(\n",
        "        self,\n",
        "        size: int,\n",
        "        alpha: float,\n",
        "        beta: float,\n",
        "        weight_norm: bool = True,\n",
        "        **kwargs: Any\n",
        "    ) -> None:\n",
        "        # will raise KeyError in PrioritizedVectorReplayBuffer\n",
        "        # super().__init__(size, **kwargs)\n",
        "        ReplayBuffer.__init__(self, size, **kwargs)\n",
        "        assert alpha > 0.0 and beta >= 0.0\n",
        "        self._alpha, self._beta = alpha, beta\n",
        "        self._max_prio = self._min_prio = 1.0\n",
        "        # save weight directly in this class instead of self._meta\n",
        "        self.weight = SegmentTree(size)\n",
        "        self.__eps = np.finfo(np.float32).eps.item()\n",
        "        self.options.update(alpha=alpha, beta=beta)\n",
        "        self._weight_norm = weight_norm\n",
        "\n",
        "    def init_weight(self, index: Union[int, np.ndarray]) -> None:\n",
        "        self.weight[index] = self._max_prio**self._alpha\n",
        "\n",
        "\n",
        "    def update(self, buffer: ReplayBuffer) -> np.ndarray:\n",
        "        indices = super().update(buffer)\n",
        "        self.init_weight(indices)\n",
        "        return indices\n",
        "\n",
        "\n",
        "    def add(\n",
        "        self,\n",
        "        batch: Batch,\n",
        "        buffer_ids: Optional[Union[np.ndarray, List[int]]] = None\n",
        "    ) -> Tuple[np.ndarray, np.ndarray, np.ndarray, np.ndarray]:\n",
        "        ptr, ep_rew, ep_len, ep_idx = super().add(batch, buffer_ids)\n",
        "        self.init_weight(ptr)\n",
        "        return ptr, ep_rew, ep_len, ep_idx\n",
        "\n",
        "\n",
        "    def sample_indices(self, batch_size: int) -> np.ndarray:\n",
        "        if batch_size > 0 and len(self) > 0:\n",
        "            scalar = np.random.rand(batch_size) * self.weight.reduce()\n",
        "            return self.weight.get_prefix_sum_idx(scalar)  # type: ignore\n",
        "        else:\n",
        "            return super().sample_indices(batch_size)\n",
        "\n",
        "\n",
        "    def get_weight(self, index: Union[int, np.ndarray]) -> Union[float, np.ndarray]:\n",
        "        \"\"\"Get the importance sampling weight.\n",
        "\n",
        "        The \"weight\" in the returned Batch is the weight on loss function to debias\n",
        "        the sampling process (some transition tuples are sampled more often so their\n",
        "        losses are weighted less).\n",
        "        \"\"\"\n",
        "        # important sampling weight calculation\n",
        "        # original formula: ((p_j/p_sum*N)**(-beta))/((p_min/p_sum*N)**(-beta))\n",
        "        # simplified formula: (p_j/p_min)**(-beta)\n",
        "        return (self.weight[index] / self._min_prio)**(-self._beta)\n",
        "\n",
        "\n",
        "    def update_weight(\n",
        "        self, index: np.ndarray, new_weight: Union[np.ndarray, torch.Tensor]\n",
        "    ) -> None:\n",
        "        \"\"\"Update priority weight by index in this buffer.\n",
        "\n",
        "        :param np.ndarray index: index you want to update weight.\n",
        "        :param np.ndarray new_weight: new priority weight you want to update.\n",
        "        \"\"\"\n",
        "        weight = np.abs(to_numpy(new_weight)) + self.__eps\n",
        "        self.weight[index] = weight**self._alpha\n",
        "        self._max_prio = max(self._max_prio, weight.max())\n",
        "        self._min_prio = min(self._min_prio, weight.min())\n",
        "\n",
        "\n",
        "    def __getitem__(self, index: Union[slice, int, List[int], np.ndarray]) -> Batch:\n",
        "        if isinstance(index, slice):  # change slice to np array\n",
        "            # buffer[:] will get all available data\n",
        "            indices = self.sample_indices(0) if index == slice(None) \\\n",
        "                else self._indices[:len(self)][index]\n",
        "        else:\n",
        "            indices = index  # type: ignore\n",
        "        batch = super().__getitem__(indices)\n",
        "        weight = self.get_weight(indices)\n",
        "        # ref: https://github.com/Kaixhin/Rainbow/blob/master/memory.py L154\n",
        "        batch.weight = weight / np.max(weight) if self._weight_norm else weight\n",
        "        return batch\n",
        "\n",
        "\n",
        "    def set_beta(self, beta: float) -> None:\n",
        "        self._beta = beta"
      ]
    },
    {
      "cell_type": "code",
      "execution_count": null,
      "metadata": {
        "id": "fbXAuTBjRfFj"
      },
      "outputs": [],
      "source": [
        "class PolicyNetwork(nn.Module):\n",
        "    def __init__(self,num_state,num_action,hidden_size=64,init_w=3e-3):\n",
        "        super(PolicyNetwork,self).__init__()\n",
        "        self.fc1 = nn.Linear(num_state,hidden_size)\n",
        "        self.fc2 = nn.Linear(hidden_size,hidden_size)\n",
        "        self.fc3 = nn.Linear(hidden_size,hidden_size)\n",
        "        self.fc4 = nn.Linear(hidden_size,num_action)\n",
        "        self.fc4.weight.data.uniform_(-init_w, init_w)\n",
        "        self.fc4.bias.data.uniform_(-init_w, init_w)\n",
        "\n",
        "    def forward(self,x):\n",
        "        x = F.relu(self.fc1(x))\n",
        "        x = F.relu(self.fc2(x))\n",
        "        x = F.relu(self.fc3(x))\n",
        "        action = self.fc4(x)\n",
        "        return action"
      ]
    },
    {
      "cell_type": "code",
      "execution_count": null,
      "metadata": {
        "id": "p6PO05WpRhOL"
      },
      "outputs": [],
      "source": [
        "class QNetwork(nn.Module):\n",
        "    def __init__(self,num_state,num_action,hidden_size=64,init_w=3e-3):\n",
        "        super(QNetwork,self).__init__()\n",
        "        self.fc1 = nn.Linear(num_state+num_action,hidden_size)\n",
        "        self.fc2 = nn.Linear(hidden_size,hidden_size)\n",
        "        self.fc3 = nn.Linear(hidden_size,hidden_size)\n",
        "        self.fc4 = nn.Linear(hidden_size,1)\n",
        "        self.fc4.weight.data.uniform_(-init_w, init_w)\n",
        "        self.fc4.bias.data.uniform_(-init_w, init_w)\n",
        "\n",
        "    def forward(self,state,action):\n",
        "        x = torch.cat((state, action), dim=-1)\n",
        "        x = F.relu(self.fc1(x))\n",
        "        x = F.relu(self.fc2(x))\n",
        "        x = F.relu(self.fc3(x))\n",
        "        q = self.fc4(x)\n",
        "        return q"
      ]
    },
    {
      "cell_type": "code",
      "execution_count": null,
      "metadata": {
        "id": "OYBUpkJ2RjME"
      },
      "outputs": [],
      "source": [
        "class OrnsteinUhlenbeckProcess:\n",
        "    def __init__(self, theta=0.15, mu=0.0, sigma=0.2, dt=1e-2, x0=None, size=1, sigma_min=None, n_steps_annealing=1000):\n",
        "        self.theta = theta\n",
        "        self.mu = mu\n",
        "        self.sigma = sigma\n",
        "        self.dt = dt\n",
        "        self.x0 = x0\n",
        "        self.size = size\n",
        "        self.num_steps = 0\n",
        "\n",
        "        self.x_prev = self.x0 if self.x0 is not None else np.zeros(self.size)\n",
        "\n",
        "        if sigma_min is not None:\n",
        "            self.m = -float(sigma - sigma_min) / float(n_steps_annealing)\n",
        "            self.c = sigma\n",
        "            self.sigma_min = sigma_min\n",
        "        else:\n",
        "            self.m = 0\n",
        "            self.c = sigma\n",
        "            self.sigma_min = sigma\n",
        "\n",
        "    def current_sigma(self):\n",
        "        sigma = max(self.sigma_min, self.m * float(self.num_steps) + self.c)\n",
        "        return sigma\n",
        "\n",
        "    def sample(self):\n",
        "        x = self.x_prev + self.theta * (self.mu - self.x_prev) * self.dt + self.current_sigma() * np.sqrt(self.dt) * np.random.normal(size=self.size)\n",
        "        self.x_prev = x\n",
        "        self.num_steps += 1\n",
        "        return x"
      ]
    },
    {
      "cell_type": "code",
      "execution_count": null,
      "metadata": {
        "id": "vyrnipA7RlYT"
      },
      "outputs": [],
      "source": [
        "class Learner:\n",
        "    def __init__(self,observation_space,action_space, num_agent, gamma=0.95,lr=0.01,batch_size=1024,memory_size=int(1e6),tau=0.01,grad_norm_clipping = 0.5):\n",
        "        self.num_state = observation_space\n",
        "        self.num_action = action_space\n",
        "        self.gamma = gamma\n",
        "\n",
        "        self.actor = PolicyNetwork(self.num_state,self.num_action)\n",
        "        self.target_actor = copy.deepcopy(self.actor)\n",
        "        self.actor_optimizer = optim.Adam(self.actor.parameters(),lr=0.001)\n",
        "        self.critic = QNetwork(self.num_state,self.num_action)\n",
        "        self.target_critic = copy.deepcopy(self.critic)\n",
        "        self.critic_optimizer = optim.Adam(self.critic.parameters(),lr=lr)\n",
        "\n",
        "        # Wrap your models with DataParallel\n",
        "        if torch.cuda.device_count() > 1:\n",
        "          print(\"Using\", torch.cuda.device_count(), \"GPUs!\")\n",
        "          self.actor = torch.nn.DataParallel(self.actor)\n",
        "          self.target_actor = torch.nn.DataParallel(self.target_actor)\n",
        "          self.critic = torch.nn.DataParallel(self.critic)\n",
        "          self.target_critic = torch.nn.DataParallel(self.target_critic)\n",
        "        else:\n",
        "          self.actor = self.actor.to(device)\n",
        "          self.target_actor = self.target_actor.to(device)\n",
        "          self.critic = self.critic.to(device)\n",
        "          self.target_critic = self.target_critic.to(device)\n",
        "\n",
        "        self.pri_buffer = PrioritizedReplayBuffer(memory_size, alpha=0.6, beta=0.4)\n",
        "        self.loss_fn = torch.nn.MSELoss()\n",
        "        self.batch_size = batch_size\n",
        "        self.is_gpu = torch.cuda.is_available\n",
        "        self.noise = OrnsteinUhlenbeckProcess(size=self.num_action)\n",
        "        self.grad_norm_clipping = grad_norm_clipping\n",
        "        self.tau = tau\n",
        "        self.num_agent = num_agent\n",
        "\n",
        "    @torch.no_grad()\n",
        "    def td_targeti(self,rewards,states,next_states,dones):\n",
        "        next_actions = torch.tanh(self.target_actor(states))\n",
        "        next_q = self.target_critic(next_states,next_actions)\n",
        "        td_targeti = rewards.unsqueeze(1) + self.gamma * next_q*(1.-dones.unsqueeze(1))\n",
        "        return td_targeti.float()\n",
        "\n",
        "    def update(self):\n",
        "      indices = self.pri_buffer.sample_indices(self.batch_size)\n",
        "      samples = self.pri_buffer.__getitem__(indices)\n",
        "      states, actions, rewards, next_states, dones = samples['obs'], samples['act'], samples['rew'], samples['obs_next'], samples['terminated']\n",
        "\n",
        "      states = torch.FloatTensor(states).to(device)\n",
        "      next_states = torch.FloatTensor(next_states).to(device)\n",
        "      actions = torch.FloatTensor(actions).to(device)\n",
        "      rewards = torch.FloatTensor(rewards).to(device)\n",
        "      dones = torch.IntTensor(np.array(dones)).to(device)\n",
        "\n",
        "      td_targeti = self.td_targeti(rewards,states,next_states,dones)\n",
        "      current_q = self.critic(states,actions)\n",
        "      critic_loss = self.loss_fn(current_q,td_targeti)\n",
        "      \"\"\" Update priorities based on TD errors \"\"\"\n",
        "      td_errors = (td_targeti - current_q).t()          # Calculate the TD Errors\n",
        "      self.pri_buffer.update_weight(indices, td_errors.data.detach().cpu().numpy())\n",
        "\n",
        "      self.critic_optimizer.zero_grad()\n",
        "      critic_loss.backward()\n",
        "      clip_grad_norm_(self.critic.parameters(),max_norm=self.grad_norm_clipping)\n",
        "      self.critic_optimizer.step()\n",
        "      ac_up = self.actor(states)\n",
        "      ac = torch.tanh(ac_up)\n",
        "      pr = -self.critic(states,ac).mean()\n",
        "      pg = (ac.pow(2)).mean()\n",
        "      actor_loss = pr + pg*1e-3\n",
        "      self.actor_optimizer.zero_grad()\n",
        "      clip_grad_norm_(self.actor.parameters(),max_norm=self.grad_norm_clipping)\n",
        "      actor_loss.backward()\n",
        "      self.actor_optimizer.step()\n",
        "\n",
        "      for target_param, param in zip(self.target_actor.parameters(), self.actor.parameters()):\n",
        "        target_param.data.copy_(self.tau * param.data + (1.0 - self.tau) * target_param.data)\n",
        "      for target_param, param in zip(self.target_critic.parameters(), self.critic.parameters()):\n",
        "        target_param.data.copy_(self.tau * param.data + (1.0 - self.tau) * target_param.data)\n",
        "\n",
        "    def inference(self,state,greedy=False):\n",
        "        state = torch.tensor(state,dtype=torch.float).cuda()\n",
        "        action = torch.tanh(self.actor(state))\n",
        "        if not greedy:\n",
        "            action += torch.tensor(self.noise.sample(),dtype=torch.float).cuda()\n",
        "        return np.clip(action.detach().cpu().numpy(),-1.0,1.0)"
      ]
    },
    {
      "cell_type": "code",
      "execution_count": null,
      "metadata": {
        "id": "ZKQGvERZE0Bg"
      },
      "outputs": [],
      "source": [
        "class Actors:\n",
        "    def __init__(self, num_agent, learner):\n",
        "        self.num_agent = num_agent\n",
        "        self.learner = learner\n",
        "\n",
        "    def get_action(self,states, greedy=False):\n",
        "      actions = []\n",
        "      for i in range(num_agent):\n",
        "        action = self.learner.inference(states[i])\n",
        "        actions.append(action)\n",
        "      return actions"
      ]
    },
    {
      "cell_type": "markdown",
      "metadata": {
        "id": "GajVdLbEIIPz"
      },
      "source": [
        "## Initialize parameters\n",
        "## Initialize memory buffer"
      ]
    },
    {
      "cell_type": "code",
      "execution_count": null,
      "metadata": {
        "colab": {
          "base_uri": "https://localhost:8080/"
        },
        "id": "3QrcPP-ERpND",
        "outputId": "c4cb61a3-cd9b-4293-91ec-93b45056c431"
      },
      "outputs": [
        {
          "output_type": "stream",
          "name": "stdout",
          "text": [
            "1\n",
            "10 Data collected\n"
          ]
        }
      ],
      "source": [
        "# num_episode = 50000\n",
        "# memory_size = 100000\n",
        "# initial_memory_size = 100000\n",
        "\n",
        "num_episode = 50\n",
        "memory_size = 10\n",
        "initial_memory_size = 10\n",
        "episode_rewards = []\n",
        "num_average_epidodes = 100\n",
        "\n",
        "env = make_env('simple_spread')\n",
        "num_agent=env.n\n",
        "max_steps = 25\n",
        "observation_space = 18\n",
        "action_space = 5\n",
        "learner = Learner(observation_space, action_space, num_agent, memory_size)\n",
        "agents = Actors(num_agent, learner)\n",
        "\n",
        "# Initially, put the data into the replay buffer when an action with noise was taken\n",
        "states = env.reset()\n",
        "for step in range(initial_memory_size):\n",
        "    if step % max_steps == 0:\n",
        "        states = env.reset()\n",
        "    actions = agents.get_action(states)\n",
        "    next_states, rewards, dones, _ = env.step(actions)\n",
        "    for i in range(num_agent):\n",
        "      batch = Batch({'obs': states[i], 'act': actions[i], 'rew': rewards[i], 'obs_next': next_states[i], 'terminated': dones[i], 'truncated': dones[i]})\n",
        "      agents.learner.pri_buffer.add(batch)\n",
        "    states = next_states\n",
        "print('%d Data collected' % (initial_memory_size))"
      ]
    },
    {
      "cell_type": "markdown",
      "metadata": {
        "id": "l7aV0pRFIRnj"
      },
      "source": [
        "## Train agent"
      ]
    },
    {
      "cell_type": "code",
      "execution_count": null,
      "metadata": {
        "id": "C36bm_K6Rtf0",
        "colab": {
          "base_uri": "https://localhost:8080/",
          "height": 489
        },
        "outputId": "8c897ba7-1373-4719-9ef7-165575fb01d0"
      },
      "outputs": [
        {
          "output_type": "stream",
          "name": "stdout",
          "text": [
            "Episode 0 finished | Episode reward -651.632094\n"
          ]
        },
        {
          "output_type": "display_data",
          "data": {
            "text/plain": [
              "<Figure size 640x480 with 1 Axes>"
            ],
            "image/png": "[encoded data removed]"
          },
          "metadata": {}
        }
      ],
      "source": [
        "for episode in range(num_episode):\n",
        "    states = env.reset()\n",
        "    episode_reward = 0\n",
        "    for t in range(max_steps):\n",
        "        actions = agents.get_action(states)\n",
        "        next_states, rewards, dones, _ = env.step(actions)\n",
        "        episode_reward += sum(rewards)\n",
        "        for i in range(num_agent):\n",
        "          batch = Batch({'obs': states[i], 'act': actions[i], 'rew': rewards[i], 'obs_next': next_states[i], 'terminated': dones[i], 'truncated': dones[i]})\n",
        "          agents.learner.pri_buffer.add(batch)\n",
        "        states = next_states\n",
        "        if all(dones):\n",
        "            break\n",
        "    if episode % 5 == 0:\n",
        "        agents.learner.update()\n",
        "    episode_rewards.append(episode_reward)\n",
        "    if episode % 100 == 0:\n",
        "        print(\"Episode %d finished | Episode reward %f\" % (episode, episode_reward))\n",
        "\n",
        "# Compute the moving average of cumulative rewards\n",
        "moving_average = np.convolve(episode_rewards, np.ones(num_average_epidodes)/num_average_epidodes, mode='valid')\n",
        "plt.plot(np.arange(len(moving_average)),moving_average)\n",
        "plt.title('Average rewards in %d episodes' % num_average_epidodes)\n",
        "plt.xlabel('episode')\n",
        "plt.ylabel('rewards')\n",
        "plt.show()\n",
        "\n",
        "env.close()"
      ]
    },
    {
      "cell_type": "markdown",
      "metadata": {
        "id": "8WeJmRE-IT30"
      },
      "source": [
        "## Test agent"
      ]
    },
    {
      "cell_type": "code",
      "execution_count": null,
      "metadata": {
        "id": "_nYcbknFR2iM",
        "colab": {
          "base_uri": "https://localhost:8080/"
        },
        "outputId": "1f5dbdf0-30ff-45df-8021-23ebc9d9a1ff"
      },
      "outputs": [
        {
          "output_type": "stream",
          "name": "stdout",
          "text": [
            "-753.7678919297822\n"
          ]
        }
      ],
      "source": [
        "states = env.reset()\n",
        "episode_reward = 0\n",
        "\n",
        "for t in range(max_steps):\n",
        "    actions = agents.get_action(states,greedy=True)\n",
        "    next_states, rewards, dones, _ = env.step(actions)\n",
        "    episode_reward += sum(rewards)\n",
        "\n",
        "    states = next_states\n",
        "print(episode_reward)"
      ]
    }
  ],
  "metadata": {
    "accelerator": "GPU",
    "colab": {
      "machine_shape": "hm",
      "provenance": [],
      "gpuType": "A100"
    },
    "kernelspec": {
      "display_name": "Python 3",
      "name": "python3"
    },
    "language_info": {
      "name": "python"
    }
  },
  "nbformat": 4,
  "nbformat_minor": 0
}