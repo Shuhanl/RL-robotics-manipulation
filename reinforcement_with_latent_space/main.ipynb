{
  "cells": [
    {
      "cell_type": "code",
      "execution_count": 1,
      "metadata": {
        "colab": {
          "base_uri": "https://localhost:8080/"
        },
        "id": "VEcuSBdHQpfd",
        "outputId": "2a641c10-8d86-468b-c052-441c1ca9fe35"
      },
      "outputs": [
        {
          "name": "stdout",
          "output_type": "stream",
          "text": [
            "Collecting robosuite (from -r requirements.txt (line 1))\n",
            "  Downloading robosuite-1.4.0-py3-none-any.whl (193.5 MB)\n",
            "\u001b[2K     \u001b[90m━━━━━━━━━━━━━━━━━━━━━━━━━━━━━━━━━━━━━━━━\u001b[0m \u001b[32m193.5/193.5 MB\u001b[0m \u001b[31m5.7 MB/s\u001b[0m eta \u001b[36m0:00:00\u001b[0m\n",
            "\u001b[?25hCollecting tianshou (from -r requirements.txt (line 2))\n",
            "  Downloading tianshou-0.5.1-py3-none-any.whl (163 kB)\n",
            "\u001b[2K     \u001b[90m━━━━━━━━━━━━━━━━━━━━━━━━━━━━━━━━━━━━━━━━\u001b[0m \u001b[32m163.1/163.1 kB\u001b[0m \u001b[31m21.5 MB/s\u001b[0m eta \u001b[36m0:00:00\u001b[0m\n",
            "\u001b[?25hCollecting stable-baselines3[extra]>=2.0.0a4 (from -r requirements.txt (line 3))\n",
            "  Downloading stable_baselines3-2.2.1-py3-none-any.whl (181 kB)\n",
            "\u001b[2K     \u001b[90m━━━━━━━━━━━━━━━━━━━━━━━━━━━━━━━━━━━━━━━━\u001b[0m \u001b[32m181.7/181.7 kB\u001b[0m \u001b[31m23.8 MB/s\u001b[0m eta \u001b[36m0:00:00\u001b[0m\n",
            "\u001b[?25hRequirement already satisfied: numpy>=1.13.3 in /usr/local/lib/python3.10/dist-packages (from robosuite->-r requirements.txt (line 1)) (1.23.5)\n",
            "Requirement already satisfied: numba>=0.49.1 in /usr/local/lib/python3.10/dist-packages (from robosuite->-r requirements.txt (line 1)) (0.58.1)\n",
            "Requirement already satisfied: scipy>=1.2.3 in /usr/local/lib/python3.10/dist-packages (from robosuite->-r requirements.txt (line 1)) (1.11.3)\n",
            "Collecting mujoco>=2.3.0 (from robosuite->-r requirements.txt (line 1))\n",
            "  Downloading mujoco-3.0.1-cp310-cp310-manylinux_2_17_x86_64.manylinux2014_x86_64.whl (5.3 MB)\n",
            "\u001b[2K     \u001b[90m━━━━━━━━━━━━━━━━━━━━━━━━━━━━━━━━━━━━━━━━\u001b[0m \u001b[32m5.3/5.3 MB\u001b[0m \u001b[31m89.5 MB/s\u001b[0m eta \u001b[36m0:00:00\u001b[0m\n",
            "\u001b[?25hRequirement already satisfied: Pillow in /usr/local/lib/python3.10/dist-packages (from robosuite->-r requirements.txt (line 1)) (9.4.0)\n",
            "Requirement already satisfied: opencv-python in /usr/local/lib/python3.10/dist-packages (from robosuite->-r requirements.txt (line 1)) (4.8.0.76)\n",
            "Collecting gymnasium>=0.26.0 (from tianshou->-r requirements.txt (line 2))\n",
            "  Downloading gymnasium-0.29.1-py3-none-any.whl (953 kB)\n",
            "\u001b[2K     \u001b[90m━━━━━━━━━━━━━━━━━━━━━━━━━━━━━━━━━━━━━━━━\u001b[0m \u001b[32m953.9/953.9 kB\u001b[0m \u001b[31m75.0 MB/s\u001b[0m eta \u001b[36m0:00:00\u001b[0m\n",
            "\u001b[?25hRequirement already satisfied: tqdm in /usr/local/lib/python3.10/dist-packages (from tianshou->-r requirements.txt (line 2)) (4.66.1)\n",
            "Requirement already satisfied: tensorboard>=2.5.0 in /usr/local/lib/python3.10/dist-packages (from tianshou->-r requirements.txt (line 2)) (2.14.1)\n",
            "Requirement already satisfied: torch>=1.4.0 in /usr/local/lib/python3.10/dist-packages (from tianshou->-r requirements.txt (line 2)) (2.1.0+cu118)\n",
            "Requirement already satisfied: h5py>=2.10.0 in /usr/local/lib/python3.10/dist-packages (from tianshou->-r requirements.txt (line 2)) (3.9.0)\n",
            "Requirement already satisfied: packaging in /usr/local/lib/python3.10/dist-packages (from tianshou->-r requirements.txt (line 2)) (23.2)\n",
            "Collecting pettingzoo>=1.22 (from tianshou->-r requirements.txt (line 2))\n",
            "  Downloading pettingzoo-1.24.2-py3-none-any.whl (846 kB)\n",
            "\u001b[2K     \u001b[90m━━━━━━━━━━━━━━━━━━━━━━━━━━━━━━━━━━━━━━━━\u001b[0m \u001b[32m846.8/846.8 kB\u001b[0m \u001b[31m73.4 MB/s\u001b[0m eta \u001b[36m0:00:00\u001b[0m\n",
            "\u001b[?25hRequirement already satisfied: cloudpickle in /usr/local/lib/python3.10/dist-packages (from stable-baselines3[extra]>=2.0.0a4->-r requirements.txt (line 3)) (2.2.1)\n",
            "Requirement already satisfied: pandas in /usr/local/lib/python3.10/dist-packages (from stable-baselines3[extra]>=2.0.0a4->-r requirements.txt (line 3)) (1.5.3)\n",
            "Requirement already satisfied: matplotlib in /usr/local/lib/python3.10/dist-packages (from stable-baselines3[extra]>=2.0.0a4->-r requirements.txt (line 3)) (3.7.1)\n",
            "Requirement already satisfied: pygame in /usr/local/lib/python3.10/dist-packages (from stable-baselines3[extra]>=2.0.0a4->-r requirements.txt (line 3)) (2.5.2)\n",
            "Requirement already satisfied: psutil in /usr/local/lib/python3.10/dist-packages (from stable-baselines3[extra]>=2.0.0a4->-r requirements.txt (line 3)) (5.9.5)\n",
            "Requirement already satisfied: rich in /usr/local/lib/python3.10/dist-packages (from stable-baselines3[extra]>=2.0.0a4->-r requirements.txt (line 3)) (13.7.0)\n",
            "Collecting shimmy[atari]~=1.3.0 (from stable-baselines3[extra]>=2.0.0a4->-r requirements.txt (line 3))\n",
            "  Downloading Shimmy-1.3.0-py3-none-any.whl (37 kB)\n",
            "Collecting autorom[accept-rom-license]~=0.6.1 (from stable-baselines3[extra]>=2.0.0a4->-r requirements.txt (line 3))\n",
            "  Downloading AutoROM-0.6.1-py3-none-any.whl (9.4 kB)\n",
            "Requirement already satisfied: click in /usr/local/lib/python3.10/dist-packages (from autorom[accept-rom-license]~=0.6.1->stable-baselines3[extra]>=2.0.0a4->-r requirements.txt (line 3)) (8.1.7)\n",
            "Requirement already satisfied: requests in /usr/local/lib/python3.10/dist-packages (from autorom[accept-rom-license]~=0.6.1->stable-baselines3[extra]>=2.0.0a4->-r requirements.txt (line 3)) (2.31.0)\n",
            "Collecting AutoROM.accept-rom-license (from autorom[accept-rom-license]~=0.6.1->stable-baselines3[extra]>=2.0.0a4->-r requirements.txt (line 3))\n",
            "  Downloading AutoROM.accept-rom-license-0.6.1.tar.gz (434 kB)\n",
            "\u001b[2K     \u001b[90m━━━━━━━━━━━━━━━━━━━━━━━━━━━━━━━━━━━━━━━━\u001b[0m \u001b[32m434.7/434.7 kB\u001b[0m \u001b[31m50.9 MB/s\u001b[0m eta \u001b[36m0:00:00\u001b[0m\n",
            "\u001b[?25h  Installing build dependencies ... \u001b[?25l\u001b[?25hdone\n",
            "  Getting requirements to build wheel ... \u001b[?25l\u001b[?25hdone\n",
            "  Preparing metadata (pyproject.toml) ... \u001b[?25l\u001b[?25hdone\n",
            "Requirement already satisfied: typing-extensions>=4.3.0 in /usr/local/lib/python3.10/dist-packages (from gymnasium>=0.26.0->tianshou->-r requirements.txt (line 2)) (4.5.0)\n",
            "Collecting farama-notifications>=0.0.1 (from gymnasium>=0.26.0->tianshou->-r requirements.txt (line 2))\n",
            "  Using cached Farama_Notifications-0.0.4-py3-none-any.whl (2.5 kB)\n",
            "Requirement already satisfied: absl-py in /usr/local/lib/python3.10/dist-packages (from mujoco>=2.3.0->robosuite->-r requirements.txt (line 1)) (1.4.0)\n",
            "Requirement already satisfied: etils[epath] in /usr/local/lib/python3.10/dist-packages (from mujoco>=2.3.0->robosuite->-r requirements.txt (line 1)) (1.5.2)\n",
            "Collecting glfw (from mujoco>=2.3.0->robosuite->-r requirements.txt (line 1))\n",
            "  Downloading glfw-2.6.3-py2.py27.py3.py30.py31.py32.py33.py34.py35.py36.py37.py38-none-manylinux2014_x86_64.whl (208 kB)\n",
            "\u001b[2K     \u001b[90m━━━━━━━━━━━━━━━━━━━━━━━━━━━━━━━━━━━━━━━━\u001b[0m \u001b[32m208.2/208.2 kB\u001b[0m \u001b[31m29.0 MB/s\u001b[0m eta \u001b[36m0:00:00\u001b[0m\n",
            "\u001b[?25hRequirement already satisfied: pyopengl in /usr/local/lib/python3.10/dist-packages (from mujoco>=2.3.0->robosuite->-r requirements.txt (line 1)) (3.1.7)\n",
            "Requirement already satisfied: llvmlite<0.42,>=0.41.0dev0 in /usr/local/lib/python3.10/dist-packages (from numba>=0.49.1->robosuite->-r requirements.txt (line 1)) (0.41.1)\n",
            "Collecting ale-py~=0.8.1 (from shimmy[atari]~=1.3.0->stable-baselines3[extra]>=2.0.0a4->-r requirements.txt (line 3))\n",
            "  Downloading ale_py-0.8.1-cp310-cp310-manylinux_2_17_x86_64.manylinux2014_x86_64.whl (1.7 MB)\n",
            "\u001b[2K     \u001b[90m━━━━━━━━━━━━━━━━━━━━━━━━━━━━━━━━━━━━━━━━\u001b[0m \u001b[32m1.7/1.7 MB\u001b[0m \u001b[31m98.2 MB/s\u001b[0m eta \u001b[36m0:00:00\u001b[0m\n",
            "\u001b[?25hRequirement already satisfied: grpcio>=1.48.2 in /usr/local/lib/python3.10/dist-packages (from tensorboard>=2.5.0->tianshou->-r requirements.txt (line 2)) (1.59.2)\n",
            "Requirement already satisfied: google-auth<3,>=1.6.3 in /usr/local/lib/python3.10/dist-packages (from tensorboard>=2.5.0->tianshou->-r requirements.txt (line 2)) (2.17.3)\n",
            "Requirement already satisfied: google-auth-oauthlib<1.1,>=0.5 in /usr/local/lib/python3.10/dist-packages (from tensorboard>=2.5.0->tianshou->-r requirements.txt (line 2)) (1.0.0)\n",
            "Requirement already satisfied: markdown>=2.6.8 in /usr/local/lib/python3.10/dist-packages (from tensorboard>=2.5.0->tianshou->-r requirements.txt (line 2)) (3.5.1)\n",
            "Requirement already satisfied: protobuf>=3.19.6 in /usr/local/lib/python3.10/dist-packages (from tensorboard>=2.5.0->tianshou->-r requirements.txt (line 2)) (3.20.3)\n",
            "Requirement already satisfied: setuptools>=41.0.0 in /usr/local/lib/python3.10/dist-packages (from tensorboard>=2.5.0->tianshou->-r requirements.txt (line 2)) (67.7.2)\n",
            "Requirement already satisfied: six>1.9 in /usr/local/lib/python3.10/dist-packages (from tensorboard>=2.5.0->tianshou->-r requirements.txt (line 2)) (1.16.0)\n",
            "Requirement already satisfied: tensorboard-data-server<0.8.0,>=0.7.0 in /usr/local/lib/python3.10/dist-packages (from tensorboard>=2.5.0->tianshou->-r requirements.txt (line 2)) (0.7.2)\n",
            "Requirement already satisfied: werkzeug>=1.0.1 in /usr/local/lib/python3.10/dist-packages (from tensorboard>=2.5.0->tianshou->-r requirements.txt (line 2)) (3.0.1)\n",
            "Requirement already satisfied: filelock in /usr/local/lib/python3.10/dist-packages (from torch>=1.4.0->tianshou->-r requirements.txt (line 2)) (3.13.1)\n",
            "Requirement already satisfied: sympy in /usr/local/lib/python3.10/dist-packages (from torch>=1.4.0->tianshou->-r requirements.txt (line 2)) (1.12)\n",
            "Requirement already satisfied: networkx in /usr/local/lib/python3.10/dist-packages (from torch>=1.4.0->tianshou->-r requirements.txt (line 2)) (3.2.1)\n",
            "Requirement already satisfied: jinja2 in /usr/local/lib/python3.10/dist-packages (from torch>=1.4.0->tianshou->-r requirements.txt (line 2)) (3.1.2)\n",
            "Requirement already satisfied: fsspec in /usr/local/lib/python3.10/dist-packages (from torch>=1.4.0->tianshou->-r requirements.txt (line 2)) (2023.6.0)\n",
            "Requirement already satisfied: triton==2.1.0 in /usr/local/lib/python3.10/dist-packages (from torch>=1.4.0->tianshou->-r requirements.txt (line 2)) (2.1.0)\n",
            "Requirement already satisfied: contourpy>=1.0.1 in /usr/local/lib/python3.10/dist-packages (from matplotlib->stable-baselines3[extra]>=2.0.0a4->-r requirements.txt (line 3)) (1.2.0)\n",
            "Requirement already satisfied: cycler>=0.10 in /usr/local/lib/python3.10/dist-packages (from matplotlib->stable-baselines3[extra]>=2.0.0a4->-r requirements.txt (line 3)) (0.12.1)\n",
            "Requirement already satisfied: fonttools>=4.22.0 in /usr/local/lib/python3.10/dist-packages (from matplotlib->stable-baselines3[extra]>=2.0.0a4->-r requirements.txt (line 3)) (4.44.3)\n",
            "Requirement already satisfied: kiwisolver>=1.0.1 in /usr/local/lib/python3.10/dist-packages (from matplotlib->stable-baselines3[extra]>=2.0.0a4->-r requirements.txt (line 3)) (1.4.5)\n",
            "Requirement already satisfied: pyparsing>=2.3.1 in /usr/local/lib/python3.10/dist-packages (from matplotlib->stable-baselines3[extra]>=2.0.0a4->-r requirements.txt (line 3)) (3.1.1)\n",
            "Requirement already satisfied: python-dateutil>=2.7 in /usr/local/lib/python3.10/dist-packages (from matplotlib->stable-baselines3[extra]>=2.0.0a4->-r requirements.txt (line 3)) (2.8.2)\n",
            "Requirement already satisfied: pytz>=2020.1 in /usr/local/lib/python3.10/dist-packages (from pandas->stable-baselines3[extra]>=2.0.0a4->-r requirements.txt (line 3)) (2023.3.post1)\n",
            "Requirement already satisfied: markdown-it-py>=2.2.0 in /usr/local/lib/python3.10/dist-packages (from rich->stable-baselines3[extra]>=2.0.0a4->-r requirements.txt (line 3)) (3.0.0)\n",
            "Requirement already satisfied: pygments<3.0.0,>=2.13.0 in /usr/local/lib/python3.10/dist-packages (from rich->stable-baselines3[extra]>=2.0.0a4->-r requirements.txt (line 3)) (2.16.1)\n",
            "Requirement already satisfied: importlib-resources in /usr/local/lib/python3.10/dist-packages (from ale-py~=0.8.1->shimmy[atari]~=1.3.0->stable-baselines3[extra]>=2.0.0a4->-r requirements.txt (line 3)) (6.1.1)\n",
            "Requirement already satisfied: cachetools<6.0,>=2.0.0 in /usr/local/lib/python3.10/dist-packages (from google-auth<3,>=1.6.3->tensorboard>=2.5.0->tianshou->-r requirements.txt (line 2)) (5.3.2)\n",
            "Requirement already satisfied: pyasn1-modules>=0.2.1 in /usr/local/lib/python3.10/dist-packages (from google-auth<3,>=1.6.3->tensorboard>=2.5.0->tianshou->-r requirements.txt (line 2)) (0.3.0)\n",
            "Requirement already satisfied: rsa<5,>=3.1.4 in /usr/local/lib/python3.10/dist-packages (from google-auth<3,>=1.6.3->tensorboard>=2.5.0->tianshou->-r requirements.txt (line 2)) (4.9)\n",
            "Requirement already satisfied: requests-oauthlib>=0.7.0 in /usr/local/lib/python3.10/dist-packages (from google-auth-oauthlib<1.1,>=0.5->tensorboard>=2.5.0->tianshou->-r requirements.txt (line 2)) (1.3.1)\n",
            "Requirement already satisfied: mdurl~=0.1 in /usr/local/lib/python3.10/dist-packages (from markdown-it-py>=2.2.0->rich->stable-baselines3[extra]>=2.0.0a4->-r requirements.txt (line 3)) (0.1.2)\n",
            "Requirement already satisfied: charset-normalizer<4,>=2 in /usr/local/lib/python3.10/dist-packages (from requests->autorom[accept-rom-license]~=0.6.1->stable-baselines3[extra]>=2.0.0a4->-r requirements.txt (line 3)) (3.3.2)\n",
            "Requirement already satisfied: idna<4,>=2.5 in /usr/local/lib/python3.10/dist-packages (from requests->autorom[accept-rom-license]~=0.6.1->stable-baselines3[extra]>=2.0.0a4->-r requirements.txt (line 3)) (3.4)\n",
            "Requirement already satisfied: urllib3<3,>=1.21.1 in /usr/local/lib/python3.10/dist-packages (from requests->autorom[accept-rom-license]~=0.6.1->stable-baselines3[extra]>=2.0.0a4->-r requirements.txt (line 3)) (2.0.7)\n",
            "Requirement already satisfied: certifi>=2017.4.17 in /usr/local/lib/python3.10/dist-packages (from requests->autorom[accept-rom-license]~=0.6.1->stable-baselines3[extra]>=2.0.0a4->-r requirements.txt (line 3)) (2023.7.22)\n",
            "Requirement already satisfied: MarkupSafe>=2.1.1 in /usr/local/lib/python3.10/dist-packages (from werkzeug>=1.0.1->tensorboard>=2.5.0->tianshou->-r requirements.txt (line 2)) (2.1.3)\n",
            "Requirement already satisfied: zipp in /usr/local/lib/python3.10/dist-packages (from etils[epath]->mujoco>=2.3.0->robosuite->-r requirements.txt (line 1)) (3.17.0)\n",
            "Requirement already satisfied: mpmath>=0.19 in /usr/local/lib/python3.10/dist-packages (from sympy->torch>=1.4.0->tianshou->-r requirements.txt (line 2)) (1.3.0)\n",
            "Requirement already satisfied: pyasn1<0.6.0,>=0.4.6 in /usr/local/lib/python3.10/dist-packages (from pyasn1-modules>=0.2.1->google-auth<3,>=1.6.3->tensorboard>=2.5.0->tianshou->-r requirements.txt (line 2)) (0.5.0)\n",
            "Requirement already satisfied: oauthlib>=3.0.0 in /usr/local/lib/python3.10/dist-packages (from requests-oauthlib>=0.7.0->google-auth-oauthlib<1.1,>=0.5->tensorboard>=2.5.0->tianshou->-r requirements.txt (line 2)) (3.2.2)\n",
            "Building wheels for collected packages: AutoROM.accept-rom-license\n",
            "  Building wheel for AutoROM.accept-rom-license (pyproject.toml) ... \u001b[?25l\u001b[?25hdone\n",
            "  Created wheel for AutoROM.accept-rom-license: filename=AutoROM.accept_rom_license-0.6.1-py3-none-any.whl size=446660 sha256=d2ffa8c057608bf132b600d3ad3fb0fd5ae2333c5223d04c86072257cd681943\n",
            "  Stored in directory: /root/.cache/pip/wheels/6b/1b/ef/a43ff1a2f1736d5711faa1ba4c1f61be1131b8899e6a057811\n",
            "Successfully built AutoROM.accept-rom-license\n",
            "Installing collected packages: glfw, farama-notifications, gymnasium, ale-py, shimmy, pettingzoo, AutoROM.accept-rom-license, autorom, stable-baselines3, mujoco, robosuite, tianshou\n",
            "Successfully installed AutoROM.accept-rom-license-0.6.1 ale-py-0.8.1 autorom-0.6.1 farama-notifications-0.0.4 glfw-2.6.3 gymnasium-0.29.1 mujoco-3.0.1 pettingzoo-1.24.2 robosuite-1.4.0 shimmy-1.3.0 stable-baselines3-2.2.1 tianshou-0.5.1\n"
          ]
        }
      ],
      "source": [
        "!pip install -r requirements.txt"
      ]
    },
    {
      "cell_type": "code",
      "execution_count": 2,
      "metadata": {
        "colab": {
          "base_uri": "https://localhost:8080/"
        },
        "id": "HtuK2i1jQ4nc",
        "outputId": "8cace65a-159f-4e35-d62a-1481f08d0007"
      },
      "outputs": [
        {
          "name": "stderr",
          "output_type": "stream",
          "text": [
            "/usr/local/lib/python3.10/dist-packages/tensorflow/python/framework/dtypes.py:35: DeprecationWarning: ml_dtypes.float8_e4m3b11 is deprecated. Use ml_dtypes.float8_e4m3b11fnuz\n",
            "  from tensorflow.tsl.python.lib.core import pywrap_ml_dtypes\n"
          ]
        }
      ],
      "source": [
        "from collections import OrderedDict\n",
        "import numpy as np\n",
        "\n",
        "import torch\n",
        "\n",
        "import matplotlib.pyplot as plt\n",
        "from google.colab import drive\n",
        "\n",
        "import gym\n",
        "from stable_baselines3.common.vec_env import DummyVecEnv\n",
        "\n",
        "import imageio\n",
        "from base64 import b64encode\n",
        "from IPython.display import HTML"
      ]
    },
    {
      "cell_type": "code",
      "execution_count": 3,
      "metadata": {
        "colab": {
          "base_uri": "https://localhost:8080/"
        },
        "id": "xjX3oBFf5YpY",
        "outputId": "18f2eb25-47b9-4ff2-c1cf-b39f6bd5b2e5"
      },
      "outputs": [
        {
          "name": "stderr",
          "output_type": "stream",
          "text": [
            "/usr/local/lib/python3.10/dist-packages/ipykernel/ipkernel.py:283: DeprecationWarning: `should_run_async` will not call `transform_cell` automatically in the future. Please pass the result to `transformed_cell` argument and any exception that happen during thetransform in `preprocessing_exc_tuple` in IPython 7.17 and above.\n",
            "  and should_run_async(code)\n",
            "/usr/local/lib/python3.10/dist-packages/robosuite/__init__.py:7: DeprecationWarning: The 'warn' method is deprecated, use 'warning' instead\n",
            "  ROBOSUITE_DEFAULT_LOGGER.warn(\"No private macro file found!\")\n",
            "[robosuite WARNING] No private macro file found! (__init__.py:7)\n",
            "WARNING:robosuite_logs:No private macro file found!\n",
            "[robosuite WARNING] It is recommended to use a private macro file (__init__.py:8)\n",
            "WARNING:robosuite_logs:It is recommended to use a private macro file\n",
            "[robosuite WARNING] To setup, run: python /usr/local/lib/python3.10/dist-packages/robosuite/scripts/setup_macros.py (__init__.py:9)\n",
            "WARNING:robosuite_logs:To setup, run: python /usr/local/lib/python3.10/dist-packages/robosuite/scripts/setup_macros.py\n"
          ]
        }
      ],
      "source": [
        "from train import AgentTrainer\n",
        "from utils import image_process\n",
        "from env import Stack\n",
        "\n",
        "class SerialModelTrain():\n",
        "  def __init__(self):\n",
        "    self.num_episode = 10\n",
        "    self.initial_memory_size = 5\n",
        "    self.episode_rewards = []\n",
        "    self.num_average_epidodes = 100\n",
        "    self.save_every = 100\n",
        "    self.batch_size=3072\n",
        "    self.max_steps = 100\n",
        "    self.envs = Stack('Panda')\n",
        "    self.robot_state_shape = 7\n",
        "    self.action_shape = self.envs[0].robots[0].robot_model.dof + self.envs[0].robots[0].gripper.dof\n",
        "    self.agent_trainer = AgentTrainer(self.action_shape, self.robot_state_shape)\n",
        "\n",
        "    self.evaluate_interval = 10\n",
        "    self.reward_window = 20\n",
        "    self.reward_values = [0]*self.reward_window \n",
        "    self.averge_reward = 0 \n",
        "\n",
        "  def init_buffer(self):\n",
        "    \"\"\" Initially, put the data into the replay buffer when an action with noise was taken \"\"\"\n",
        "    state = OrderedDict()\n",
        "    next_state = OrderedDict()\n",
        "    done = False\n",
        "    reward = 0 \n",
        "\n",
        "    state = self.env.reset()\n",
        "\n",
        "    for step in range(self.initial_memory_size):\n",
        "        if step % self.max_steps == 0:\n",
        "          state = self.env.reset()\n",
        "\n",
        "        action = np.random.randn(self.action_shape) # sample random action\n",
        "        next_state, reward, done, info = self.env.step(action)\n",
        "\n",
        "        # verify the following in the server\n",
        "        vision = image_process(state['frontview_image'])\n",
        "        vision_next = image_process(next_state['frontview_image'])\n",
        "        action = torch.tensor(action, dtype=torch.float32)\n",
        "        action = action.squeeze(0)\n",
        "\n",
        "        self.agent_trainer.pri_buffer.store(state, action, reward, next_state, done)\n",
        "        state = next_state\n",
        "\n",
        "    print('%d Data collected' % self.initial_memory_size)\n",
        "\n",
        "\n",
        "  def train_model(self):\n",
        "    state = OrderedDict() \n",
        "    next_state = OrderedDict() \n",
        "    done = False \n",
        "    reward = 0 \n",
        "\n",
        "    for episode in range(self.num_episode):\n",
        "      state = self.env.reset()\n",
        "      episode_reward = 0\n",
        "      for t in range(self.max_steps):\n",
        "        vision = image_process(state['frontview_image'])\n",
        "\n",
        "        robot_state = [\n",
        "            np.array(state['robot0_eef_pos'], dtype=np.float32).flatten(),\n",
        "            np.array(state['robot0_eef_quat'], dtype=np.float32).flatten()\n",
        "        ]\n",
        "\n",
        "        robot_state = np.concatenate(robot_state)\n",
        "        robot_state = torch.tensor(robot_state, dtype=torch.float32)\n",
        "\n",
        "        action = self.agent_trainer.get_action(vision, robot_state)\n",
        "        next_state, reward, done, info = self.env.step(action[0])\n",
        "\n",
        "        if len(self.reward_value)>=20:\n",
        "          self.reward_value.pop(0)\n",
        "          self.reward_value.append(reward)\n",
        "\n",
        "        # verify the following in the server\n",
        "        vision_next = image_process(next_state['frontview_image'])\n",
        "        vision = vision.squeeze(0)\n",
        "        vision_next = vision_next.squeeze(0)\n",
        "        action = torch.tensor(action, dtype=torch.float32)\n",
        "        action = action.squeeze(0)\n",
        "\n",
        "        self.agent_trainer.pri_buffer.store(state, action, reward, next_state, done)\n",
        "        state = next_state\n",
        "        if any(done):\n",
        "          break\n",
        "\n",
        "      episode_reward += reward\n",
        "\n",
        "      if episode % 5 == 0:\n",
        "        self.agent_trainer.update()\n",
        "      self.episode_rewards.append(episode_reward)\n",
        "      if episode % self.evaluate_interval == 0:\n",
        "        self.averge_reward = np.mean(self.reward_value)\n",
        "        print(self.averge_reward)\n",
        "      if episode % 100 == 0:\n",
        "        print(\"Episode %d finished | Episode reward %f\" % (episode, episode_reward))\n",
        "      if episode % self.save_every == 0:\n",
        "        self.agent_trainer.save_checkpoint(episode)\n",
        "\n",
        "    self.env.close()\n",
        "\n",
        "  def plot(self):\n",
        "    # Compute the moving average of cumulative rewards\n",
        "    moving_average = np.convolve(self.episode_rewards, np.ones(self.num_average_epidodes)/self.num_average_epidodes, mode='valid')\n",
        "    plt.plot(np.arange(len(moving_average)),moving_average)\n",
        "    plt.title('Average rewards in %d episodes' % self.num_average_epidodes)\n",
        "    plt.xlabel('episode')\n",
        "    plt.ylabel('rewards')\n",
        "    plt.show()\n",
        "\n",
        "  def test_model(self):\n",
        "    env = Stack('Panda')\n",
        "    states = env.reset()\n",
        "    self.agent_trainer.load_checkpoint('/content/drive/My Drive/check_point')\n",
        "\n",
        "    frames = []\n",
        "    for i in range(100):\n",
        "      frames.append(states['frontview_image'])  # Append the image to the frames list\n",
        "      obs = image_process(states['frontview_image'])\n",
        "      action = self.agent_trainer.get_action(obs)\n",
        "\n",
        "      next_state, reward, done, info = env.step(action[0])\n",
        "      state = next_state\n",
        "\n",
        "\n",
        "    imageio.mimwrite('robosuite_video.mp4', frames, fps=20)"
      ]
    },
    {
      "cell_type": "markdown",
      "metadata": {
        "id": "OvtZ6Z_taf3M"
      },
      "source": [
        "## Train agent"
      ]
    },
    {
      "cell_type": "code",
      "execution_count": null,
      "metadata": {
        "colab": {
          "base_uri": "https://localhost:8080/"
        },
        "id": "ilSkkI7apWmY",
        "outputId": "819fb03b-7aa6-4f58-b5ab-00e134b3d0be"
      },
      "outputs": [
        {
          "name": "stdout",
          "output_type": "stream",
          "text": [
            "cuda\n"
          ]
        }
      ],
      "source": [
        "# drive.mount('/content/drive')\n",
        "\n",
        "serial_train = SerialModelTrain()\n",
        "serial_train.init_buffer()\n",
        "serial_train.train_model()\n",
        "serial_train.plot()\n"
      ]
    },
    {
      "cell_type": "markdown",
      "metadata": {
        "id": "2rgxoeCJaoK8"
      },
      "source": [
        "## Test Model"
      ]
    },
    {
      "cell_type": "code",
      "execution_count": null,
      "metadata": {
        "id": "NRpDqBbitbMT"
      },
      "outputs": [],
      "source": [
        "serial_train.test_model()"
      ]
    },
    {
      "cell_type": "code",
      "execution_count": null,
      "metadata": {
        "id": "cYRnB8zG3QPL"
      },
      "outputs": [],
      "source": [
        "\"\"\" Load video and encode it in base64 format \"\"\"\n",
        "video_path = 'robosuite_video.mp4'\n",
        "video_data = open(video_path, 'rb').read()\n",
        "video_encoded = b64encode(video_data).decode()\n",
        "\n",
        "# Display video using HTML\n",
        "HTML(f\"\"\"\n",
        "<video width=\"640\" height=\"480\" controls>\n",
        "  <source src=\"data:video/mp4;base64,{video_encoded}\" type=\"video/mp4\">\n",
        "</video>\n",
        "\"\"\")"
      ]
    }
  ],
  "metadata": {
    "accelerator": "GPU",
    "colab": {
      "gpuType": "T4",
      "machine_shape": "hm",
      "provenance": []
    },
    "kernelspec": {
      "display_name": "Python 3",
      "name": "python3"
    },
    "language_info": {
      "name": "python"
    }
  },
  "nbformat": 4,
  "nbformat_minor": 0
}
