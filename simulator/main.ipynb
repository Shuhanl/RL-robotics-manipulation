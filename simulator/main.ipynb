{
  "cells": [
    {
      "cell_type": "code",
      "execution_count": null,
      "metadata": {
        "colab": {
          "base_uri": "https://localhost:8080/"
        },
        "id": "VEcuSBdHQpfd",
        "outputId": "54b61d78-929d-4e03-b7f0-467ad2e721a7"
      },
      "outputs": [],
      "source": [
        "!pip install -r requirements.txt\n",
        "\n",
        "\n",
        "# # below fixes some bugs introduced by some recent Colab changes\n",
        "# !mkdir -p /usr/share/vulkan/icd.d\n",
        "# !wget -q https://raw.githubusercontent.com/haosulab/ManiSkill2/main/docker/nvidia_icd.json\n",
        "# !wget -q https://raw.githubusercontent.com/haosulab/ManiSkill2/main/docker/10_nvidia.json\n",
        "# !mv nvidia_icd.json /usr/share/vulkan/icd.d\n",
        "# !mv 10_nvidia.json /usr/share/glvnd/egl_vendor.d/10_nvidia.json\n",
        "# # dependencies\n",
        "# #!pip install setuptools==65.5.0\n",
        "# !apt-get install -y --no-install-recommends libvulkan-dev\n",
        "# !pip install mani_skill2\n",
        "# !pip install --upgrade --no-cache-dir gdown"
      ]
    },
    {
      "cell_type": "code",
      "execution_count": null,
      "metadata": {
        "id": "VYuVIP-2l5F7"
      },
      "outputs": [],
      "source": [
        "import numpy as np\n",
        "import matplotlib.pyplot as plt\n",
        "import gymnasium as gym\n",
        "import mani_skill2.envs\n",
        "from tqdm.notebook import tqdm\n",
        "import time\n",
        "from pybullet.humanoid import HumanoidEnv\n",
        "from pybullet.arm import ArmEnv\n"
      ]
    },
    {
      "cell_type": "markdown",
      "metadata": {
        "id": "eZMj8LPVxJ3p"
      },
      "source": [
        "# Pybullet"
      ]
    },
    {
      "cell_type": "code",
      "execution_count": null,
      "metadata": {
        "id": "-gwMlB8dl5F8"
      },
      "outputs": [],
      "source": [
        "env = ArmEnv()\n",
        "env.connect()\n",
        "env.load_object()\n",
        "\n",
        "obs = env.reset()\n",
        "target_position = [0, 0.8, 1]\n",
        "target_orientation = [0, np.pi, 0]\n",
        "action={}\n",
        "action['position'] = target_position\n",
        "action['orientation'] = target_orientation\n",
        "action['gripper'] = [0.1, 1]\n",
        "obs = env.step(action)\n",
        "\n",
        "time.sleep(2)\n",
        "env.get_robot_info()"
      ]
    },
    {
      "cell_type": "code",
      "execution_count": null,
      "metadata": {},
      "outputs": [],
      "source": [
        "# env = HumanoidEnv(gui=True)\n",
        "# obs = env.reset()\n",
        "# for _ in range(1000):\n",
        "#     action = env.action_space.sample()  # Random action\n",
        "#     obs, reward, done, _ = env.step(action)\n",
        "#     time.sleep(1./240.)\n",
        "# env.close()"
      ]
    },
    {
      "cell_type": "markdown",
      "metadata": {
        "id": "yzP0Ois0xE5B"
      },
      "source": [
        "# Maniskill"
      ]
    },
    {
      "cell_type": "code",
      "execution_count": null,
      "metadata": {
        "colab": {
          "base_uri": "https://localhost:8080/",
          "height": 580
        },
        "id": "_TERZjggl5F8",
        "outputId": "7e505264-b567-4531-9ca6-dbf3ca262c5e"
      },
      "outputs": [],
      "source": [
        "env_id = \"PickCube-v0\"\n",
        "obs_mode = \"rgbd\"\n",
        "control_mode = \"pd_joint_delta_pos\"\n",
        "reward_mode = \"dense\"\n",
        "\n",
        "env = gym.make(env_id,\n",
        "               obs_mode=obs_mode,\n",
        "               reward_mode=reward_mode,\n",
        "               control_mode=control_mode,\n",
        "               enable_shadow=False)\n",
        "obs, _ = env.reset()\n",
        "print(\"Action Space:\", env.action_space)\n",
        "\n",
        "# take a look at the current state\n",
        "img = env.unwrapped.render_cameras()\n",
        "plt.figure(figsize=(10,6))\n",
        "plt.title(\"Current State viewed through all RGB and Depth cameras\")\n",
        "plt.imshow(img)"
      ]
    },
    {
      "cell_type": "code",
      "execution_count": null,
      "metadata": {
        "colab": {
          "base_uri": "https://localhost:8080/",
          "height": 637,
          "referenced_widgets": [
            "0af0c6205a624d5095457a60fd2a7af6",
            "648c121e420d4a6595cf2dafee1c36e9",
            "2dfce8cbf0664b3688a09a2e95915272",
            "16cf6075ea0448eca952b2ebd84c33c8",
            "1f6640a8cefb4ef08b0ff5e26629279b",
            "fc914e0e8f664073aa80f7a2db823c5e",
            "10d38d9abe794ff481db66a9ebcd6c4a",
            "b47af2a6da794fc6945bbe082d95f980",
            "bfdb442fdbf948dfa5f14656d4c9aff2",
            "cb4d849211524a1aab592d5420855240",
            "9e3a153d24e24dbf99c40f881b39418f"
          ]
        },
        "id": "cYRnB8zG3QPL",
        "outputId": "983e49d3-b835-47c7-8c10-56c5e4547cf4"
      },
      "outputs": [],
      "source": [
        "from mani_skill2.utils.wrappers import RecordEpisode\n",
        "env = RecordEpisode(\n",
        "    env,\n",
        "    \"./videos\", # the directory to save replay videos and trajectories to\n",
        "    info_on_video=True # when True, will add informative text onto the replay video such as step counter, reward, and other metrics\n",
        ")\n",
        "\n",
        "# step through the environment with random actions\n",
        "obs, _ = env.reset()\n",
        "for i in tqdm(range(100)):\n",
        "    action = env.action_space.sample()\n",
        "    obs, reward, terminated, truncated, info = env.step(action)\n",
        "\n",
        "env.flush_video() # Save the video\n",
        "env.close()\n",
        "from IPython.display import Video\n",
        "Video(\"./videos/0.mp4\", embed=True) # Watch our replay"
      ]
    }
  ],
  "metadata": {
    "accelerator": "GPU",
    "colab": {
      "gpuType": "T4",
      "machine_shape": "hm",
      "provenance": []
    },
    "kernelspec": {
      "display_name": "Python 3",
      "name": "python3"
    },
    "language_info": {
      "codemirror_mode": {
        "name": "ipython",
        "version": 3
      },
      "file_extension": ".py",
      "mimetype": "text/x-python",
      "name": "python",
      "nbconvert_exporter": "python",
      "pygments_lexer": "ipython3",
      "version": "3.8.10"
    },
    "widgets": {
      "application/vnd.jupyter.widget-state+json": {
        "0af0c6205a624d5095457a60fd2a7af6": {
          "model_module": "@jupyter-widgets/controls",
          "model_module_version": "1.5.0",
          "model_name": "HBoxModel",
          "state": {
            "_dom_classes": [],
            "_model_module": "@jupyter-widgets/controls",
            "_model_module_version": "1.5.0",
            "_model_name": "HBoxModel",
            "_view_count": null,
            "_view_module": "@jupyter-widgets/controls",
            "_view_module_version": "1.5.0",
            "_view_name": "HBoxView",
            "box_style": "",
            "children": [
              "IPY_MODEL_648c121e420d4a6595cf2dafee1c36e9",
              "IPY_MODEL_2dfce8cbf0664b3688a09a2e95915272",
              "IPY_MODEL_16cf6075ea0448eca952b2ebd84c33c8"
            ],
            "layout": "IPY_MODEL_1f6640a8cefb4ef08b0ff5e26629279b"
          }
        },
        "10d38d9abe794ff481db66a9ebcd6c4a": {
          "model_module": "@jupyter-widgets/controls",
          "model_module_version": "1.5.0",
          "model_name": "DescriptionStyleModel",
          "state": {
            "_model_module": "@jupyter-widgets/controls",
            "_model_module_version": "1.5.0",
            "_model_name": "DescriptionStyleModel",
            "_view_count": null,
            "_view_module": "@jupyter-widgets/base",
            "_view_module_version": "1.2.0",
            "_view_name": "StyleView",
            "description_width": ""
          }
        },
        "16cf6075ea0448eca952b2ebd84c33c8": {
          "model_module": "@jupyter-widgets/controls",
          "model_module_version": "1.5.0",
          "model_name": "HTMLModel",
          "state": {
            "_dom_classes": [],
            "_model_module": "@jupyter-widgets/controls",
            "_model_module_version": "1.5.0",
            "_model_name": "HTMLModel",
            "_view_count": null,
            "_view_module": "@jupyter-widgets/controls",
            "_view_module_version": "1.5.0",
            "_view_name": "HTMLView",
            "description": "",
            "description_tooltip": null,
            "layout": "IPY_MODEL_cb4d849211524a1aab592d5420855240",
            "placeholder": "​",
            "style": "IPY_MODEL_9e3a153d24e24dbf99c40f881b39418f",
            "value": " 100/100 [00:02&lt;00:00, 39.37it/s]"
          }
        },
        "1f6640a8cefb4ef08b0ff5e26629279b": {
          "model_module": "@jupyter-widgets/base",
          "model_module_version": "1.2.0",
          "model_name": "LayoutModel",
          "state": {
            "_model_module": "@jupyter-widgets/base",
            "_model_module_version": "1.2.0",
            "_model_name": "LayoutModel",
            "_view_count": null,
            "_view_module": "@jupyter-widgets/base",
            "_view_module_version": "1.2.0",
            "_view_name": "LayoutView",
            "align_content": null,
            "align_items": null,
            "align_self": null,
            "border": null,
            "bottom": null,
            "display": null,
            "flex": null,
            "flex_flow": null,
            "grid_area": null,
            "grid_auto_columns": null,
            "grid_auto_flow": null,
            "grid_auto_rows": null,
            "grid_column": null,
            "grid_gap": null,
            "grid_row": null,
            "grid_template_areas": null,
            "grid_template_columns": null,
            "grid_template_rows": null,
            "height": null,
            "justify_content": null,
            "justify_items": null,
            "left": null,
            "margin": null,
            "max_height": null,
            "max_width": null,
            "min_height": null,
            "min_width": null,
            "object_fit": null,
            "object_position": null,
            "order": null,
            "overflow": null,
            "overflow_x": null,
            "overflow_y": null,
            "padding": null,
            "right": null,
            "top": null,
            "visibility": null,
            "width": null
          }
        },
        "2dfce8cbf0664b3688a09a2e95915272": {
          "model_module": "@jupyter-widgets/controls",
          "model_module_version": "1.5.0",
          "model_name": "FloatProgressModel",
          "state": {
            "_dom_classes": [],
            "_model_module": "@jupyter-widgets/controls",
            "_model_module_version": "1.5.0",
            "_model_name": "FloatProgressModel",
            "_view_count": null,
            "_view_module": "@jupyter-widgets/controls",
            "_view_module_version": "1.5.0",
            "_view_name": "ProgressView",
            "bar_style": "success",
            "description": "",
            "description_tooltip": null,
            "layout": "IPY_MODEL_b47af2a6da794fc6945bbe082d95f980",
            "max": 100,
            "min": 0,
            "orientation": "horizontal",
            "style": "IPY_MODEL_bfdb442fdbf948dfa5f14656d4c9aff2",
            "value": 100
          }
        },
        "648c121e420d4a6595cf2dafee1c36e9": {
          "model_module": "@jupyter-widgets/controls",
          "model_module_version": "1.5.0",
          "model_name": "HTMLModel",
          "state": {
            "_dom_classes": [],
            "_model_module": "@jupyter-widgets/controls",
            "_model_module_version": "1.5.0",
            "_model_name": "HTMLModel",
            "_view_count": null,
            "_view_module": "@jupyter-widgets/controls",
            "_view_module_version": "1.5.0",
            "_view_name": "HTMLView",
            "description": "",
            "description_tooltip": null,
            "layout": "IPY_MODEL_fc914e0e8f664073aa80f7a2db823c5e",
            "placeholder": "​",
            "style": "IPY_MODEL_10d38d9abe794ff481db66a9ebcd6c4a",
            "value": "100%"
          }
        },
        "9e3a153d24e24dbf99c40f881b39418f": {
          "model_module": "@jupyter-widgets/controls",
          "model_module_version": "1.5.0",
          "model_name": "DescriptionStyleModel",
          "state": {
            "_model_module": "@jupyter-widgets/controls",
            "_model_module_version": "1.5.0",
            "_model_name": "DescriptionStyleModel",
            "_view_count": null,
            "_view_module": "@jupyter-widgets/base",
            "_view_module_version": "1.2.0",
            "_view_name": "StyleView",
            "description_width": ""
          }
        },
        "b47af2a6da794fc6945bbe082d95f980": {
          "model_module": "@jupyter-widgets/base",
          "model_module_version": "1.2.0",
          "model_name": "LayoutModel",
          "state": {
            "_model_module": "@jupyter-widgets/base",
            "_model_module_version": "1.2.0",
            "_model_name": "LayoutModel",
            "_view_count": null,
            "_view_module": "@jupyter-widgets/base",
            "_view_module_version": "1.2.0",
            "_view_name": "LayoutView",
            "align_content": null,
            "align_items": null,
            "align_self": null,
            "border": null,
            "bottom": null,
            "display": null,
            "flex": null,
            "flex_flow": null,
            "grid_area": null,
            "grid_auto_columns": null,
            "grid_auto_flow": null,
            "grid_auto_rows": null,
            "grid_column": null,
            "grid_gap": null,
            "grid_row": null,
            "grid_template_areas": null,
            "grid_template_columns": null,
            "grid_template_rows": null,
            "height": null,
            "justify_content": null,
            "justify_items": null,
            "left": null,
            "margin": null,
            "max_height": null,
            "max_width": null,
            "min_height": null,
            "min_width": null,
            "object_fit": null,
            "object_position": null,
            "order": null,
            "overflow": null,
            "overflow_x": null,
            "overflow_y": null,
            "padding": null,
            "right": null,
            "top": null,
            "visibility": null,
            "width": null
          }
        },
        "bfdb442fdbf948dfa5f14656d4c9aff2": {
          "model_module": "@jupyter-widgets/controls",
          "model_module_version": "1.5.0",
          "model_name": "ProgressStyleModel",
          "state": {
            "_model_module": "@jupyter-widgets/controls",
            "_model_module_version": "1.5.0",
            "_model_name": "ProgressStyleModel",
            "_view_count": null,
            "_view_module": "@jupyter-widgets/base",
            "_view_module_version": "1.2.0",
            "_view_name": "StyleView",
            "bar_color": null,
            "description_width": ""
          }
        },
        "cb4d849211524a1aab592d5420855240": {
          "model_module": "@jupyter-widgets/base",
          "model_module_version": "1.2.0",
          "model_name": "LayoutModel",
          "state": {
            "_model_module": "@jupyter-widgets/base",
            "_model_module_version": "1.2.0",
            "_model_name": "LayoutModel",
            "_view_count": null,
            "_view_module": "@jupyter-widgets/base",
            "_view_module_version": "1.2.0",
            "_view_name": "LayoutView",
            "align_content": null,
            "align_items": null,
            "align_self": null,
            "border": null,
            "bottom": null,
            "display": null,
            "flex": null,
            "flex_flow": null,
            "grid_area": null,
            "grid_auto_columns": null,
            "grid_auto_flow": null,
            "grid_auto_rows": null,
            "grid_column": null,
            "grid_gap": null,
            "grid_row": null,
            "grid_template_areas": null,
            "grid_template_columns": null,
            "grid_template_rows": null,
            "height": null,
            "justify_content": null,
            "justify_items": null,
            "left": null,
            "margin": null,
            "max_height": null,
            "max_width": null,
            "min_height": null,
            "min_width": null,
            "object_fit": null,
            "object_position": null,
            "order": null,
            "overflow": null,
            "overflow_x": null,
            "overflow_y": null,
            "padding": null,
            "right": null,
            "top": null,
            "visibility": null,
            "width": null
          }
        },
        "fc914e0e8f664073aa80f7a2db823c5e": {
          "model_module": "@jupyter-widgets/base",
          "model_module_version": "1.2.0",
          "model_name": "LayoutModel",
          "state": {
            "_model_module": "@jupyter-widgets/base",
            "_model_module_version": "1.2.0",
            "_model_name": "LayoutModel",
            "_view_count": null,
            "_view_module": "@jupyter-widgets/base",
            "_view_module_version": "1.2.0",
            "_view_name": "LayoutView",
            "align_content": null,
            "align_items": null,
            "align_self": null,
            "border": null,
            "bottom": null,
            "display": null,
            "flex": null,
            "flex_flow": null,
            "grid_area": null,
            "grid_auto_columns": null,
            "grid_auto_flow": null,
            "grid_auto_rows": null,
            "grid_column": null,
            "grid_gap": null,
            "grid_row": null,
            "grid_template_areas": null,
            "grid_template_columns": null,
            "grid_template_rows": null,
            "height": null,
            "justify_content": null,
            "justify_items": null,
            "left": null,
            "margin": null,
            "max_height": null,
            "max_width": null,
            "min_height": null,
            "min_width": null,
            "object_fit": null,
            "object_position": null,
            "order": null,
            "overflow": null,
            "overflow_x": null,
            "overflow_y": null,
            "padding": null,
            "right": null,
            "top": null,
            "visibility": null,
            "width": null
          }
        }
      }
    }
  },
  "nbformat": 4,
  "nbformat_minor": 0
}
